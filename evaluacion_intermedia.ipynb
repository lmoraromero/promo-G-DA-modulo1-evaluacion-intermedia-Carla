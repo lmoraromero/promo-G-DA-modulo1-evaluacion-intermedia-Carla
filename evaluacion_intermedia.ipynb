{
 "cells": [
  {
   "cell_type": "markdown",
   "metadata": {},
   "source": [
    "**Parte 1: Strings**"
   ]
  },
  {
   "cell_type": "markdown",
   "metadata": {},
   "source": [
    "1. Dada una cadena de texto, contar cuántas veces aparece una letra específica en ella. Usa un input para que el usuario elija la letra a buscar.\n",
    "   > cadena = \"Python es un lenguaje de programación muy popular\"\n",
    "2. Escribe un programa que tome la siguiente cadena de texto y reemplace una palabra específica por otra palabra. La palabra a reemplazar y reemplazada deben ser elegidas por el usuario.\n",
    "    > cadena = \"Python es genial. Python es fácil de aprender.\"\n",
    "3. Toma la siguiente oración y divídela en una lista de palabras. Luego, únelas nuevamente en una sola cadena de texto.\n",
    "    > oracion = \"Esto es una oración de ejemplo\"\n",
    "4. Desarrolla un programa que cuente cuántas palabras hay en la siguiente frase.\n",
    "    > cadena = \"Esta es una cadena con cinco palabras\"\n",
    "5. Escribe un programa que invierta una cadena de texto dada por un usuario. Mira el siguiente ejemplo para entender lo que se pide:\n",
    "    > *input*\n",
    "    >\"Hola buenos dias\"\n",
    "\n",
    "    > *output*\n",
    "    >\"dias buenos Hola\n",
    "6. Crea un programa que busque una palabra específica(elegida por la usuaria) en una cadena de texto e indique su posición."
   ]
  },
  {
   "cell_type": "code",
   "execution_count": 54,
   "metadata": {},
   "outputs": [
    {
     "name": "stdout",
     "output_type": "stream",
     "text": [
      "La letra P aparece 4 veces en Python es un lenguaje de programacion popular\n"
     ]
    }
   ],
   "source": [
    "# 1. Dada una cadena de texto, contar cuántas veces aparece una letra específica en ella. Usa un input para que el usuario elija la letra a buscar.\n",
    "# cadena = \"Python es un lenguaje de programación muy popular\"\n",
    "\n",
    "pregunta_letra = input('¿Qué letra quieres comprobar?')\n",
    "cadena = 'Python es un lenguaje de programacion popular'\n",
    "\n",
    "print(f'La letra {pregunta_letra} aparece {cadena.lower().count(pregunta_letra.lower())} veces en {cadena}')"
   ]
  },
  {
   "cell_type": "code",
   "execution_count": 4,
   "metadata": {},
   "outputs": [
    {
     "name": "stdout",
     "output_type": "stream",
     "text": [
      "Queremos reemplazar la palabra genial por maravilloso. La frase quedaría: Python es maravilloso. Python es fácil de aprender\n"
     ]
    }
   ],
   "source": [
    "# 2. Escribe un programa que tome la siguiente cadena de texto y reemplace una palabra específica por otra palabra. \n",
    "# La palabra a reemplazar y reemplazada deben ser elegidas por el usuario.\n",
    "# cadena = \"Python es genial. Python es fácil de aprender.\"\n",
    "\n",
    "cadena2 = 'Python es genial. Python es fácil de aprender'\n",
    "pregunta_reemplazo = input('¿Qué palabra quieres reemplazar?')\n",
    "pregunta_palabra = input('¿Por cuál?')\n",
    "\n",
    "print(f'Queremos reemplazar la palabra {pregunta_reemplazo} por {pregunta_palabra}. La frase quedaría: {cadena2.replace(pregunta_reemplazo, pregunta_palabra)}')\n"
   ]
  },
  {
   "cell_type": "code",
   "execution_count": 56,
   "metadata": {},
   "outputs": [
    {
     "name": "stdout",
     "output_type": "stream",
     "text": [
      "La lista de las palabras sería: ['Esto', 'es', 'una', 'oración', 'de', 'ejemplo']\n",
      "La oración vuelve a ser: Esto es una oración de ejemplo\n"
     ]
    }
   ],
   "source": [
    "# Toma la siguiente oración y divídela en una lista de palabras. Luego, únelas nuevamente en una sola cadena de texto\n",
    "# oracion = \"Esto es una oración de ejemplo\"\n",
    "\n",
    "oracion = 'Esto es una oración de ejemplo'\n",
    "\n",
    "lista_oracion = oracion.split()\n",
    "\n",
    "print(f'La lista de las palabras sería: {lista_oracion}')\n",
    "\n",
    "\n",
    "\n",
    "nueva_oracion = ' '.join(lista_oracion)\n",
    "\n",
    "print(f'La oración vuelve a ser: {nueva_oracion}')\n",
    "\n"
   ]
  },
  {
   "cell_type": "code",
   "execution_count": 61,
   "metadata": {},
   "outputs": [
    {
     "name": "stdout",
     "output_type": "stream",
     "text": [
      "En la frase: Esta es una cadena con cinco palabras hay 7 palabras\n"
     ]
    }
   ],
   "source": [
    "# 4. Desarrolla un programa que cuente cuántas palabras hay en la siguiente frase.\n",
    "# cadena = \"Esta es una cadena con cinco palabras\"\n",
    "\n",
    "cadena3 = 'Esta es una cadena con cinco palabras'\n",
    "lista_cadena = cadena3.split()\n",
    "\n",
    "\n",
    "print(f'En la frase: {cadena3} hay {len(lista_cadena)} palabras')"
   ]
  },
  {
   "cell_type": "code",
   "execution_count": 63,
   "metadata": {},
   "outputs": [
    {
     "name": "stdout",
     "output_type": "stream",
     "text": [
      "Tu frase invertida es ejemplo un es esto\n"
     ]
    }
   ],
   "source": [
    "# 5. Escribe un programa que invierta una cadena de texto dada por un usuario. Mira el siguiente ejemplo para entender lo que se pide:\n",
    "    # > *input*\n",
    "    # >\"Hola buenos dias\"\n",
    "\n",
    "    # > *output*\n",
    "    # >\"dias buenos Hola\n",
    "\n",
    "\n",
    "pregunta_frase = input('Introduce tu frase')\n",
    "\n",
    "frase_separada = pregunta_frase.split()\n",
    "\n",
    "inverso = ' '.join(frase_separada[::-1])\n",
    "\n",
    "print(f'Tu frase invertida es {inverso}')\n"
   ]
  },
  {
   "cell_type": "code",
   "execution_count": 5,
   "metadata": {},
   "outputs": [
    {
     "name": "stdout",
     "output_type": "stream",
     "text": [
      "¿La palabra Hola se encuentra en el texto? True\n",
      "La palabra Hola se encuentra en la posición: 0\n"
     ]
    }
   ],
   "source": [
    "# 6. Crea un programa que busque una palabra específica(elegida por la usuaria) en una cadena de texto e indique su posición.\n",
    "\n",
    "pregunta_nueva = input('Introduce una palabra para comprobar si se encuentra en el texto')\n",
    "\n",
    "cadena_tx = 'Hola buenos días. Esto es un texto de prueba'\n",
    "\n",
    "print(f'¿La palabra {pregunta_nueva} se encuentra en el texto? {pregunta_nueva in cadena_tx}')\n",
    "\n",
    "print(f'La palabra {pregunta_nueva} se encuentra en la posición: {cadena_tx.find(pregunta_nueva)}')\n"
   ]
  },
  {
   "cell_type": "code",
   "execution_count": null,
   "metadata": {},
   "outputs": [],
   "source": []
  },
  {
   "cell_type": "markdown",
   "metadata": {},
   "source": [
    "**Parte 2: Listas**"
   ]
  },
  {
   "cell_type": "markdown",
   "metadata": {},
   "source": [
    "1. Dada la siguiente lista: frutas = ['manzana', 'pera', 'banana', 'uva', 'kiwi'], realiza lo siguiente:\n",
    "    - Reemplaza el segundo elemento con 'durazno'.\n",
    "    - Agrega 'naranja' al final de la lista.\n",
    "    - Extrae y muestra por pantalla el tercer elemento de la lista.\n",
    "2. Crea una lista llamada numeros que contenga los siguientes valores: 10, 25, 15, 30, 20.\n",
    "3. Agrega el valor 35 al incio de la lista numeros.\n",
    "4. Ordena la lista numeros en orden ascendente.\n",
    "5. Dada la siguiente lista numeros2 = [45, 22, 19, 38, 29]. Crea una nueva lista llamada numeros3 donde tengamos la unión de los todos los elementos de las dos listas (numeros y numeros2) de tal forma que el resultado final sea:\n",
    "    > numeros3 = [10, 25, 15, 30, 20, 45, 22, 19, 38, 29]\n",
    "6. Elimina el último elemento de la lista numeros3.\n",
    "7. Elimina el número 30 de la lista numeros3."
   ]
  },
  {
   "cell_type": "code",
   "execution_count": 1,
   "metadata": {},
   "outputs": [
    {
     "name": "stdout",
     "output_type": "stream",
     "text": [
      "La lista antes de ser modificada es ['manzana', 'pera', 'banana', 'uva', 'kiwi']\n",
      "La lista después de ser modificada es ['manzana', 'durazno', 'banana', 'uva', 'kiwi']\n"
     ]
    }
   ],
   "source": [
    "# 1. Dada la siguiente lista: frutas = ['manzana', 'pera', 'banana', 'uva', 'kiwi'], realiza lo siguiente:\n",
    "\n",
    "lista_frutas = ['manzana', 'pera', 'banana', 'uva', 'kiwi']\n",
    "\n",
    "# Reemplaza el segundo elemento con 'durazno'\n",
    "\n",
    "print(f'La lista antes de ser modificada es {lista_frutas}')\n",
    "\n",
    "lista_frutas[1] = 'durazno'\n",
    "\n",
    "print(f'La lista después de ser modificada es {lista_frutas}')\n"
   ]
  },
  {
   "cell_type": "code",
   "execution_count": 2,
   "metadata": {},
   "outputs": [
    {
     "name": "stdout",
     "output_type": "stream",
     "text": [
      "La lista antes de ser modificada es ['manzana', 'durazno', 'banana', 'uva', 'kiwi']\n",
      "La lista después de ser modificada es ['manzana', 'durazno', 'banana', 'uva', 'kiwi', 'naranja']\n"
     ]
    }
   ],
   "source": [
    "# Agrega 'naranja' al final de la lista.\n",
    "\n",
    "\n",
    "print(f'La lista antes de ser modificada es {lista_frutas}')\n",
    "\n",
    "lista_frutas.append('naranja')\n",
    "\n",
    "print(f'La lista después de ser modificada es {lista_frutas}')"
   ]
  },
  {
   "cell_type": "code",
   "execution_count": 3,
   "metadata": {},
   "outputs": [
    {
     "name": "stdout",
     "output_type": "stream",
     "text": [
      "La tercera fruta de la lista es banana\n"
     ]
    }
   ],
   "source": [
    "# Extrae y muestra por pantalla el tercer elemento de la lista.\n",
    "\n",
    "print(f'La tercera fruta de la lista es {lista_frutas[2]}')"
   ]
  },
  {
   "cell_type": "code",
   "execution_count": 1,
   "metadata": {},
   "outputs": [],
   "source": [
    "# 2. Crea una lista llamada numeros que contenga los siguientes valores: 10, 25, 15, 30, 20.\n",
    "\n",
    "lista_num = [10, 25, 15, 30, 20]"
   ]
  },
  {
   "cell_type": "code",
   "execution_count": 2,
   "metadata": {},
   "outputs": [
    {
     "name": "stdout",
     "output_type": "stream",
     "text": [
      "La lista de números antes de agregar el nuevo valor es: [10, 25, 15, 30, 20]\n",
      "La lista de números después de agregar el nuevo valor es: [35, 10, 25, 15, 30, 20]\n"
     ]
    }
   ],
   "source": [
    "# 3. Agrega el valor 35 al incio de la lista numeros.\n",
    "\n",
    "print(f'La lista de números antes de agregar el nuevo valor es: {lista_num}')\n",
    "\n",
    "lista_num.insert(0, 35)\n",
    "\n",
    "print(f'La lista de números después de agregar el nuevo valor es: {lista_num}')"
   ]
  },
  {
   "cell_type": "code",
   "execution_count": 3,
   "metadata": {},
   "outputs": [
    {
     "name": "stdout",
     "output_type": "stream",
     "text": [
      "La lista de números antes de ordenarla es: [35, 10, 25, 15, 30, 20]\n",
      "La lista de números después de ordenarla es: [10, 15, 20, 25, 30, 35]\n"
     ]
    }
   ],
   "source": [
    "# 4. Ordena la lista numeros en orden ascendente.\n",
    "\n",
    "print(f'La lista de números antes de ordenarla es: {lista_num}')\n",
    "\n",
    "lista_num_copia = lista_num.copy()\n",
    "\n",
    "lista_num_copia.sort()\n",
    "\n",
    "print(f'La lista de números después de ordenarla es: {lista_num_copia}')"
   ]
  },
  {
   "cell_type": "code",
   "execution_count": 4,
   "metadata": {},
   "outputs": [
    {
     "name": "stdout",
     "output_type": "stream",
     "text": [
      "La nueva lista quedaría así: [35, 10, 25, 15, 30, 20, 45, 22, 19, 38, 29]\n"
     ]
    }
   ],
   "source": [
    "# 5. Dada la siguiente lista numeros2 = [45, 22, 19, 38, 29]. \n",
    "# Crea una nueva lista llamada numeros3 donde tengamos la unión de los todos los elementos de las dos listas (numeros y numeros2) \n",
    "# de tal forma que el resultado final sea:\n",
    "# numeros3 = [10, 25, 15, 30, 20, 45, 22, 19, 38, 29]\n",
    "\n",
    "lista_num2 = [45, 22, 19, 38, 29]\n",
    "\n",
    "lista_num3 = lista_num.copy()\n",
    "\n",
    "lista_num3.extend(lista_num2)\n",
    "\n",
    "print(f'La nueva lista quedaría así: {lista_num3}')"
   ]
  },
  {
   "cell_type": "code",
   "execution_count": 5,
   "metadata": {},
   "outputs": [
    {
     "name": "stdout",
     "output_type": "stream",
     "text": [
      "La lista de números antes de modificarla es: [35, 10, 25, 15, 30, 20, 45, 22, 19, 38, 29]\n",
      "La lista de números después de modificarla es: [35, 10, 25, 15, 30, 20, 45, 22, 19, 38]\n"
     ]
    }
   ],
   "source": [
    "# 6. Elimina el último elemento de la lista numeros3.\n",
    "\n",
    "print(f'La lista de números antes de modificarla es: {lista_num3}')\n",
    "\n",
    "lista_num3.pop()\n",
    "\n",
    "print(f'La lista de números después de modificarla es: {lista_num3}')"
   ]
  },
  {
   "cell_type": "code",
   "execution_count": 6,
   "metadata": {},
   "outputs": [
    {
     "name": "stdout",
     "output_type": "stream",
     "text": [
      "La lista de números antes de modificarla es: [35, 10, 25, 15, 30, 20, 45, 22, 19, 38]\n",
      "La lista de números después de modificarla es: [35, 10, 25, 15, 20, 45, 22, 19, 38]\n"
     ]
    }
   ],
   "source": [
    "# 7. Elimina el número 30 de la lista numeros3.\n",
    "\n",
    "print(f'La lista de números antes de modificarla es: {lista_num3}')\n",
    "\n",
    "lista_num3.remove(30)\n",
    "\n",
    "print(f'La lista de números después de modificarla es: {lista_num3}')\n"
   ]
  },
  {
   "cell_type": "markdown",
   "metadata": {},
   "source": [
    "**Parte 3: Tuplas**"
   ]
  },
  {
   "cell_type": "markdown",
   "metadata": {},
   "source": [
    "1. Crea una tupla llamada colores que contenga los siguientes valores: 'rojo', 'verde', 'azul', 'amarillo', 'morado'.\n",
    "2. Encuentra el índice de 'verde' en la tupla colores.\n",
    "3. ¿Cuántas veces aparece 'azul' en la tupla colores?\n",
    "4. Añade el color \"morado\" a la tupla colores. ¿Qué ha pasado? ¿Por qué? Como podríamos añadir el elemento \"morado\"."
   ]
  },
  {
   "cell_type": "code",
   "execution_count": 1,
   "metadata": {},
   "outputs": [
    {
     "name": "stdout",
     "output_type": "stream",
     "text": [
      "La tupla de colores es: ('rojo', 'verde', 'azul', 'amarillo', 'morado')\n"
     ]
    }
   ],
   "source": [
    "# 1. Crea una tupla llamada colores que contenga los siguientes valores: 'rojo', 'verde', 'azul', 'amarillo', 'morado'.\n",
    "\n",
    "colores = ('rojo', 'verde', 'azul', 'amarillo', 'morado')\n",
    "\n",
    "print(f'La tupla de colores es: {colores}')"
   ]
  },
  {
   "cell_type": "code",
   "execution_count": 2,
   "metadata": {},
   "outputs": [
    {
     "name": "stdout",
     "output_type": "stream",
     "text": [
      "El índice de verde es: 1\n"
     ]
    }
   ],
   "source": [
    "# 2. Encuentra el índice de 'verde' en la tupla colores.\n",
    "\n",
    "print('El índice de verde es:', colores.index('verde'))"
   ]
  },
  {
   "cell_type": "code",
   "execution_count": 3,
   "metadata": {},
   "outputs": [
    {
     "name": "stdout",
     "output_type": "stream",
     "text": [
      "El color azul aparece 1 veces en la tupla\n"
     ]
    }
   ],
   "source": [
    "# 3. ¿Cuántas veces aparece 'azul' en la tupla colores?\n",
    "\n",
    "print('El color azul aparece', colores.count('azul'), 'veces en la tupla')"
   ]
  },
  {
   "cell_type": "code",
   "execution_count": 4,
   "metadata": {},
   "outputs": [
    {
     "name": "stdout",
     "output_type": "stream",
     "text": [
      "La lista de colores actualizada es: ['rojo', 'verde', 'azul', 'amarillo', 'morado', 'morado']\n",
      "La tupla de colores actualizada es: ('rojo', 'verde', 'azul', 'amarillo', 'morado', 'morado')\n"
     ]
    }
   ],
   "source": [
    "# 4. Añade el color \"morado\" a la tupla colores. ¿Qué ha pasado? ¿Por qué? Como podríamos añadir el elemento \"morado\".\n",
    "\n",
    "# Tenemos que cambiar el tipo a lista para poder modificar la tupla\n",
    "# entonces ya podemos usar el método append para poder modificarla\n",
    "\n",
    "colores_lista = list(colores)\n",
    "\n",
    "colores_lista.append('morado')\n",
    "\n",
    "print(f'La lista de colores actualizada es: {colores_lista}')\n",
    "\n",
    "# Hay que volver a transformarlo en tupla\n",
    "\n",
    "colores = tuple(colores_lista)\n",
    "\n",
    "print(f'La tupla de colores actualizada es: {colores}')"
   ]
  },
  {
   "cell_type": "markdown",
   "metadata": {},
   "source": [
    "**Parte 4: Diccionarios**"
   ]
  },
  {
   "cell_type": "markdown",
   "metadata": {},
   "source": [
    "1. Crea un diccionario llamado frutas con las siguientes parejas clave-valor:\n",
    "    - 'manzana': 2\n",
    "    - 'banana': 3\n",
    "    - 'uva': 5\n",
    "    - 'pera': 4\n",
    "2. Saca una lista de todas las frutas en el diccionario.\n",
    "3. Saca una lista de todas las cantidades en el diccionario.\n",
    "4. ¿Qué cantidad de 'manzana' tenemos?. Si la clave 'manzana' no está presente, devuelve un mensaje diciendo \"No existe esa clave\".\n",
    "5. Agrega un nuevo par de clave-valor al diccionario frutas: 'kiwi' con una cantidad de 6.\n",
    "6. Cambia la cantidad de 'uva' a 8.\n",
    "7. Crea un segundo diccionario llamado frutas_nuevas con las siguientes parejas clave-valor:\n",
    "    - 'sandía': 7\n",
    "    - 'mango': 4\n",
    "8. Combinar los dos diccionarios frutas_nuevas y frutas en uno nuevos llamado frutas_total.\n",
    "9. Elimina el último par de clave-valor del diccionario fruta_total.\n",
    "10. Elimina el par de clave-valor correspondiente a la clave 'uva' del diccionario.\n",
    "11. Agregar la fruta 'manzana' con una cantidad de 10 al diccionario. Si ya existe, no se realizarán cambios en los valores que teníamos.\n",
    "12. Combinar métodos de listas y diccionarios:\n",
    "    - Obtén una lista de todas las cantidades en el diccionario y calcula suma total de las cantidades del diccionario frutas_total.\n",
    "    - Utilizando la lista creada en el apartado anterior encuentra la cantidad más grande y más pequeña."
   ]
  },
  {
   "cell_type": "code",
   "execution_count": 70,
   "metadata": {},
   "outputs": [
    {
     "name": "stdout",
     "output_type": "stream",
     "text": [
      "El diccionario es {'manzana': 2, 'banana': 3, 'uva': 5, 'pera': 4}\n"
     ]
    }
   ],
   "source": [
    "# 1. Crea un diccionario llamado frutas con las siguientes parejas clave-valor:\n",
    " \n",
    "frutas = {'manzana':2, 'banana':3, 'uva':5, 'pera':4}\n",
    "\n",
    "print(f'El diccionario es {frutas}')"
   ]
  },
  {
   "cell_type": "code",
   "execution_count": 71,
   "metadata": {},
   "outputs": [
    {
     "name": "stdout",
     "output_type": "stream",
     "text": [
      "La lista de frutas es: ['manzana', 'banana', 'uva', 'pera']\n"
     ]
    }
   ],
   "source": [
    "# 2. Saca una lista de todas las frutas en el diccionario.\n",
    "\n",
    "fruta_lista = list(frutas)\n",
    "\n",
    "print(f'La lista de frutas es: {fruta_lista}')"
   ]
  },
  {
   "cell_type": "code",
   "execution_count": 13,
   "metadata": {},
   "outputs": [
    {
     "name": "stdout",
     "output_type": "stream",
     "text": [
      "Los valores del diccionario son: dict_values([2, 3, 5, 4])\n",
      "La lista de los valores es: [2, 3, 5, 4]\n"
     ]
    }
   ],
   "source": [
    "# 3. Saca una lista de todas las cantidades en el diccionario.\n",
    "\n",
    "print(f'Los valores del diccionario son: {frutas.values()}')\n",
    "\n",
    "lista_cantidades = list(frutas.values())\n",
    "\n",
    "print(f'La lista de los valores es: {lista_cantidades}')"
   ]
  },
  {
   "cell_type": "code",
   "execution_count": 14,
   "metadata": {},
   "outputs": [
    {
     "name": "stdout",
     "output_type": "stream",
     "text": [
      "¿Cuántas manzanas tenemos? 2\n"
     ]
    }
   ],
   "source": [
    "# 4. ¿Qué cantidad de 'manzana' tenemos?. Si la clave 'manzana' no está presente, devuelve un mensaje diciendo \"No existe esa clave\".\n",
    "\n",
    "# el setdafaul modifica la variable\n",
    "\n",
    "print('¿Cuántas manzanas tenemos?', frutas.setdefault('manzana', 'No existe esa clave'))\n"
   ]
  },
  {
   "cell_type": "code",
   "execution_count": 72,
   "metadata": {},
   "outputs": [
    {
     "name": "stdout",
     "output_type": "stream",
     "text": [
      "¿Cuántas manzanas tenemos? 2\n"
     ]
    }
   ],
   "source": [
    "# con el get no modifica\n",
    "\n",
    "print('¿Cuántas manzanas tenemos?', frutas.get('manzana', 'No existe esa clave'))\n"
   ]
  },
  {
   "cell_type": "code",
   "execution_count": 15,
   "metadata": {},
   "outputs": [
    {
     "name": "stdout",
     "output_type": "stream",
     "text": [
      "El diccionario actualizado quedaría: {'manzana': 2, 'banana': 3, 'uva': 5, 'pera': 4, 'kiwi': 6}\n"
     ]
    }
   ],
   "source": [
    "# 5. Agrega un nuevo par de clave-valor al diccionario frutas: 'kiwi' con una cantidad de 6.\n",
    "\n",
    "fruta_nueva = {'kiwi':6}\n",
    "\n",
    "frutas.update(fruta_nueva)\n",
    "\n",
    "print(f'El diccionario actualizado quedaría: {frutas}')"
   ]
  },
  {
   "cell_type": "code",
   "execution_count": 16,
   "metadata": {},
   "outputs": [
    {
     "name": "stdout",
     "output_type": "stream",
     "text": [
      "El diccionario antes de actualizarlo es: {'manzana': 2, 'banana': 3, 'uva': 5, 'pera': 4, 'kiwi': 6}\n",
      "El diccionario después de actualizarlo es: {'manzana': 2, 'banana': 3, 'uva': 8, 'pera': 4, 'kiwi': 6}\n"
     ]
    }
   ],
   "source": [
    "# 6. Cambia la cantidad de 'uva' a 8.\n",
    "\n",
    "print(f'El diccionario antes de actualizarlo es: {frutas}')\n",
    "\n",
    "frutas['uva'] = 8\n",
    "\n",
    "print(f'El diccionario después de actualizarlo es: {frutas}')"
   ]
  },
  {
   "cell_type": "code",
   "execution_count": 17,
   "metadata": {},
   "outputs": [
    {
     "name": "stdout",
     "output_type": "stream",
     "text": [
      "El nuevo diccionario es: {'sandía': 7, 'mango': 4}\n"
     ]
    }
   ],
   "source": [
    "# 7. Crea un segundo diccionario llamado frutas_nuevas con las siguientes parejas clave-valor:\n",
    "\n",
    "frutas_nuevas = {'sandía':7, 'mango':4}\n",
    "\n",
    "print(f'El nuevo diccionario es: {frutas_nuevas}')"
   ]
  },
  {
   "cell_type": "code",
   "execution_count": 18,
   "metadata": {},
   "outputs": [
    {
     "name": "stdout",
     "output_type": "stream",
     "text": [
      "El primer diccionario es: {'manzana': 2, 'banana': 3, 'uva': 8, 'pera': 4, 'kiwi': 6}. El segundo es: {'sandía': 7, 'mango': 4}\n",
      "El diccionario combinado es {'manzana': 2, 'banana': 3, 'uva': 8, 'pera': 4, 'kiwi': 6, 'sandía': 7, 'mango': 4}\n"
     ]
    }
   ],
   "source": [
    "# 8. Combinar los dos diccionarios frutas_nuevas y frutas en uno nuevos llamado frutas_total.\n",
    "\n",
    "print(f'El primer diccionario es: {frutas}. El segundo es: {frutas_nuevas}')\n",
    "\n",
    "frutas_total = frutas.copy()\n",
    "\n",
    "frutas_total.update(frutas_nuevas)\n",
    "\n",
    "print(f'El diccionario combinado es {frutas_total}')"
   ]
  },
  {
   "cell_type": "code",
   "execution_count": 19,
   "metadata": {},
   "outputs": [
    {
     "name": "stdout",
     "output_type": "stream",
     "text": [
      "El diccionario antes de la modificación es {'manzana': 2, 'banana': 3, 'uva': 8, 'pera': 4, 'kiwi': 6, 'sandía': 7, 'mango': 4}\n",
      "El último par clave-valor a eliminar es ('mango', 4)\n",
      "El diccionario modificado queda: {'manzana': 2, 'banana': 3, 'uva': 8, 'pera': 4, 'kiwi': 6, 'sandía': 7}\n"
     ]
    }
   ],
   "source": [
    "# 9. Elimina el último par de clave-valor del diccionario fruta_total.\n",
    "\n",
    "print(f'El diccionario antes de la modificación es {frutas_total}')\n",
    "\n",
    "print(f'El último par clave-valor a eliminar es {frutas_total.popitem()}')\n",
    "\n",
    "print(f'El diccionario modificado queda: {frutas_total}')\n"
   ]
  },
  {
   "cell_type": "code",
   "execution_count": 20,
   "metadata": {},
   "outputs": [
    {
     "name": "stdout",
     "output_type": "stream",
     "text": [
      "El diccionario antes de la modificación es {'manzana': 2, 'banana': 3, 'uva': 8, 'pera': 4, 'kiwi': 6, 'sandía': 7}\n",
      "Eliminamos la clave-valor correspondiente a uva 8\n",
      "El diccionario modificado queda: {'manzana': 2, 'banana': 3, 'pera': 4, 'kiwi': 6, 'sandía': 7}\n"
     ]
    }
   ],
   "source": [
    "# 10. Elimina el par de clave-valor correspondiente a la clave 'uva' del diccionario.\n",
    "\n",
    "print(f'El diccionario antes de la modificación es {frutas_total}')\n",
    "\n",
    "print('Eliminamos la clave-valor correspondiente a uva', frutas_total.pop('uva'))\n",
    "\n",
    "print(f'El diccionario modificado queda: {frutas_total}')"
   ]
  },
  {
   "cell_type": "code",
   "execution_count": null,
   "metadata": {},
   "outputs": [],
   "source": [
    "# 11. Agregar la fruta 'manzana' con una cantidad de 10 al diccionario. Si ya existe, no se realizarán cambios en los valores que teníamos.\n",
    "\n",
    "frutas_total.setdefault('manzana', 10)\n",
    "\n",
    "print(f'El diccionario de la fruta es {frutas_total}')"
   ]
  },
  {
   "cell_type": "code",
   "execution_count": 22,
   "metadata": {},
   "outputs": [
    {
     "name": "stdout",
     "output_type": "stream",
     "text": [
      "La lista de los valores del diccionario son: [2, 3, 4, 6, 7]\n",
      "La suma de las cantidades del diccionario es: 22\n",
      "El mayor valor del diccionario es: 7\n",
      "El valor más pequeño del diccionario es: 2\n"
     ]
    }
   ],
   "source": [
    "# 12. Combinar métodos de listas y diccionarios:\n",
    "    # Obtén una lista de todas las cantidades en el diccionario y calcula suma total de las cantidades del diccionario frutas_total.\n",
    "    # Utilizando la lista creada en el apartado anterior encuentra la cantidad más grande y más pequeña.\n",
    "\n",
    "cantidades = list(frutas_total.values())\n",
    "\n",
    "print(f'La lista de los valores del diccionario son: {cantidades}')\n",
    "\n",
    "print(f'La suma de las cantidades del diccionario es: {sum(cantidades)}')\n",
    "\n",
    "print(f'El mayor valor del diccionario es: {max(cantidades)}')\n",
    "\n",
    "print(f'El valor más pequeño del diccionario es: {min(cantidades)}')\n"
   ]
  },
  {
   "cell_type": "markdown",
   "metadata": {},
   "source": [
    "**Parte 5: Métodos de Sets**"
   ]
  },
  {
   "cell_type": "markdown",
   "metadata": {},
   "source": [
    "1. Crea un set llamado conjunto1 con los números del 1 al 5.\n",
    "2. Crea otro set llamado conjunto2 con los números del 4 al 8.\n",
    "3. Obtén la unión de conjunto1 y conjunto2.\n",
    "4. Obtén la intersección de conjunto1 y conjunto2.\n",
    "5. Obtén los elementos que están en conjunto1 pero no en el conjunto2."
   ]
  },
  {
   "cell_type": "code",
   "execution_count": 6,
   "metadata": {},
   "outputs": [
    {
     "name": "stdout",
     "output_type": "stream",
     "text": [
      "El primer set es {1, 2, 3, 4, 5}\n"
     ]
    }
   ],
   "source": [
    "# 1. Crea un set llamado conjunto1 con los números del 1 al 5.\n",
    "\n",
    "conjunto1 = {1, 2, 3, 4, 5}\n",
    "\n",
    "print(f'El primer set es {conjunto1}')"
   ]
  },
  {
   "cell_type": "code",
   "execution_count": 7,
   "metadata": {},
   "outputs": [
    {
     "name": "stdout",
     "output_type": "stream",
     "text": [
      "El segundo set es {4, 5, 6, 7, 8}\n"
     ]
    }
   ],
   "source": [
    "# 2. Crea otro set llamado conjunto2 con los números del 4 al 8.\n",
    "\n",
    "conjunto2 = {4, 5, 6, 7, 8}\n",
    "\n",
    "print(f'El segundo set es {conjunto2}')"
   ]
  },
  {
   "cell_type": "code",
   "execution_count": 8,
   "metadata": {},
   "outputs": [
    {
     "name": "stdout",
     "output_type": "stream",
     "text": [
      "El conjunto unido es {1, 2, 3, 4, 5, 6, 7, 8}\n"
     ]
    }
   ],
   "source": [
    "# 3. Obtén la unión de conjunto1 y conjunto2.\n",
    "\n",
    "conjunto_union = conjunto1.union(conjunto2)\n",
    "\n",
    "print(f'El conjunto unido es {conjunto_union}')"
   ]
  },
  {
   "cell_type": "code",
   "execution_count": 9,
   "metadata": {},
   "outputs": [
    {
     "name": "stdout",
     "output_type": "stream",
     "text": [
      "Los elementos que tienen ambos sets en común es: {4, 5}\n"
     ]
    }
   ],
   "source": [
    "# 4. Obtén la intersección de conjunto1 y conjunto2.\n",
    "\n",
    "conjunto_interseccion = conjunto1.intersection(conjunto2)\n",
    "\n",
    "print(f'Los elementos que tienen ambos sets en común es: {conjunto_interseccion}')"
   ]
  },
  {
   "cell_type": "code",
   "execution_count": 10,
   "metadata": {},
   "outputs": [
    {
     "name": "stdout",
     "output_type": "stream",
     "text": [
      "Los elementos que están en el conjunto1 pero no en el conjunto2 son: {1, 2, 3}\n"
     ]
    }
   ],
   "source": [
    "#  5. Obtén los elementos que están en conjunto1 pero no en el conjunto2.\n",
    "\n",
    "conjunto_diferencia = conjunto1.difference(conjunto2)\n",
    "\n",
    "print(f'Los elementos que están en el conjunto1 pero no en el conjunto2 son: {conjunto_diferencia}')"
   ]
  },
  {
   "cell_type": "markdown",
   "metadata": {},
   "source": [
    "**Parte 6: Sentencias de Control**"
   ]
  },
  {
   "cell_type": "markdown",
   "metadata": {},
   "source": [
    "1. Ejercicio 1: Evaluación de Edades:\n",
    "    - Escribe un programa que solicite al usuario ingresar su edad.\n",
    "    - Si la edad es menor de 18, muestra \"Eres menor de edad\".\n",
    "    - Si la edad está entre 18 y 65 (incluyendo ambos extremos), muestra \"Eres adulto\".\n",
    "    - Si la edad es mayor que 65, muestra \"Eres un adulto mayor\".\n",
    "2. Ejercicio 2: Determinación de Día de la Semana\n",
    "    - Solicita al usuario que ingrese un número del 1 al 7.\n",
    "    - Utilizando una serie de if-elif-else, muestra el día de la semana correspondiente al número ingresado. Por ejemplo, si ingresa 1, muestra \"Lunes\".\n",
    "3. Ejercicio 3: Juego de Adivinanza\n",
    "    - Genera un número aleatorio entre 1 y 100.\n",
    "    - Pídele al usuario que adivine el número.\n",
    "    - Si el usuario adivina correctamente en el primer intento, muestra \"¡Ganaste en el primer intento!\".\n",
    "    - Si el usuario no adivina en el primer intento, bríndale pistas (mayor o menor) y permite que intente nuevamente. Muestra cuántos intentos le llevó al final.\n",
    "4. Ejercicio 4: Juego de Adivinar la Palabra\n",
    "    - Elige una palabra secreta y ocúltala utilizando asteriscos, por ejemplo, \"secreto\" se muestra como \"*******\".\n",
    "    - Permite al usuario adivinar letras una por una.\n",
    "    - Si la letra adivinada está en la palabra secreta, muestra la palabra con las letras descubiertas y los asteriscos.\n",
    "    - Si la letra no está en la palabra secreta, resta una vida al jugador.\n",
    "    - El juego continúa hasta que el jugador adivine la palabra."
   ]
  },
  {
   "cell_type": "markdown",
   "metadata": {},
   "source": [
    "1. Ejercicio 1: Evaluación de Edades:\n",
    "    - Escribe un programa que solicite al usuario ingresar su edad.\n",
    "    - Si la edad es menor de 18, muestra \"Eres menor de edad\".\n",
    "    - Si la edad está entre 18 y 65 (incluyendo ambos extremos), muestra \"Eres adulto\".\n",
    "    - Si la edad es mayor que 65, muestra \"Eres un adulto mayor\"."
   ]
  },
  {
   "cell_type": "code",
   "execution_count": 27,
   "metadata": {},
   "outputs": [
    {
     "name": "stdout",
     "output_type": "stream",
     "text": [
      "Eres adulto mayor\n"
     ]
    }
   ],
   "source": [
    "pregunta_edad = int(input('Ingresa tu edad'))\n",
    "\n",
    "if pregunta_edad < 18:\n",
    "    print('Eres menor de edad')\n",
    "elif pregunta_edad >= 18 and pregunta_edad <= 65:\n",
    "    print('Eres adulto')\n",
    "else:\n",
    "    print('Eres adulto mayor')"
   ]
  },
  {
   "cell_type": "markdown",
   "metadata": {},
   "source": [
    "2. Ejercicio 2: Determinación de Día de la Semana\n",
    "    - Solicita al usuario que ingrese un número del 1 al 7.\n",
    "    - Utilizando una serie de if-elif-else, muestra el día de la semana correspondiente al número ingresado. Por ejemplo, si ingresa 1, muestra \"Lunes\"."
   ]
  },
  {
   "cell_type": "code",
   "execution_count": 34,
   "metadata": {},
   "outputs": [
    {
     "name": "stdout",
     "output_type": "stream",
     "text": [
      "Es domingo\n"
     ]
    }
   ],
   "source": [
    "dia_semana = int(input('Ingresa un número de 1 al 7 para saber qué día de la semana es'))\n",
    "\n",
    "if dia_semana == 1:\n",
    "    print('Es lunes')\n",
    "elif dia_semana == 2:\n",
    "    print('Es martes')\n",
    "elif dia_semana == 3:\n",
    "    print('Es miércoles')\n",
    "elif dia_semana == 4:\n",
    "    print('Es jueves')\n",
    "elif dia_semana == 5:\n",
    "    print('Es viernes')\n",
    "elif dia_semana == 6:\n",
    "    print('Es sábado')\n",
    "else:\n",
    "    print('Es domingo')"
   ]
  },
  {
   "cell_type": "code",
   "execution_count": null,
   "metadata": {},
   "outputs": [],
   "source": [
    "# se puede hacer de otra manera: diccionario clave-valor para que vaya imprimiendo así"
   ]
  },
  {
   "cell_type": "markdown",
   "metadata": {},
   "source": [
    "3. Ejercicio 3: Juego de Adivinanza\n",
    "    - Genera un número aleatorio entre 1 y 100.\n",
    "    - Pídele al usuario que adivine el número.\n",
    "    - Si el usuario adivina correctamente en el primer intento, muestra \"¡Ganaste en el primer intento!\".\n",
    "    - Si el usuario no adivina en el primer intento, bríndale pistas (mayor o menor) y permite que intente nuevamente. Muestra cuántos intentos le llevó al final."
   ]
  },
  {
   "cell_type": "code",
   "execution_count": 35,
   "metadata": {},
   "outputs": [],
   "source": [
    "import random"
   ]
  },
  {
   "cell_type": "code",
   "execution_count": 37,
   "metadata": {},
   "outputs": [
    {
     "data": {
      "text/plain": [
       "80"
      ]
     },
     "execution_count": 37,
     "metadata": {},
     "output_type": "execute_result"
    }
   ],
   "source": [
    "random.randint(1, 100)"
   ]
  },
  {
   "cell_type": "code",
   "execution_count": 44,
   "metadata": {},
   "outputs": [
    {
     "name": "stdout",
     "output_type": "stream",
     "text": [
      "Sigue intentándolo!\n",
      "PISTA: El número secreto es más grande\n",
      "------------\n",
      "Sigue intentándolo!\n",
      "PISTA: El número secreto es más grande\n",
      "------------\n",
      "Sigue intentándolo!\n",
      "PISTA: El número secreto es más grande\n",
      "------------\n",
      "Sigue intentándolo!\n",
      "PISTA: El número secreto es más pequeño\n",
      "------------\n",
      "Sigue intentándolo!\n",
      "PISTA: El número secreto es más grande\n",
      "------------\n",
      "Has ganado al 6 intento!\n",
      "------------\n"
     ]
    }
   ],
   "source": [
    "numero_secreto = random.randint(1, 100)\n",
    "\n",
    "opt = True\n",
    "\n",
    "intentos = 0\n",
    "\n",
    "while opt == True:\n",
    "    usuario = int(input('Introduce un número de 1 al 100 para jugar!'))\n",
    "\n",
    "    if usuario != numero_secreto:\n",
    "        print('Sigue intentándolo!')\n",
    "        intentos += 1\n",
    "        if numero_secreto > usuario:\n",
    "            print('PISTA: El número secreto es más grande')\n",
    "        else:\n",
    "            print('PISTA: El número secreto es más pequeño')\n",
    "\n",
    "    elif usuario == numero_secreto:\n",
    "        intentos += 1\n",
    "        print(f'Has ganado al {intentos} intento!')\n",
    "        opt = False\n",
    "\n",
    "    else: \n",
    "        print('Has ganado al primer intento!')\n",
    "        opt = False\n",
    "    \n",
    "    print('------------')"
   ]
  },
  {
   "cell_type": "markdown",
   "metadata": {},
   "source": [
    "4. Ejercicio 4: Juego de Adivinar la Palabra\n",
    "    - Elige una palabra secreta y ocúltala utilizando asteriscos, por ejemplo, \"secreto\" se muestra como \"*******\".\n",
    "    - Permite al usuario adivinar letras una por una.\n",
    "    - Si la letra adivinada está en la palabra secreta, muestra la palabra con las letras descubiertas y los asteriscos.\n",
    "    - Si la letra no está en la palabra secreta, resta una vida al jugador.\n",
    "    - El juego continúa hasta que el jugador adivine la palabra."
   ]
  },
  {
   "cell_type": "code",
   "execution_count": 3,
   "metadata": {},
   "outputs": [
    {
     "name": "stdout",
     "output_type": "stream",
     "text": [
      "*A**\n",
      "Te quedan 5 intentos\n",
      "----\n",
      "*A*O\n",
      "Te quedan 5 intentos\n",
      "----\n",
      "*ATO\n",
      "Te quedan 5 intentos\n",
      "----\n",
      "PATO\n",
      "Te quedan 5 intentos\n",
      "----\n",
      "¡Los has adivinado! :D La respuesta era PATO\n",
      "Has finalizado en 5 intentos\n"
     ]
    }
   ],
   "source": [
    "#creamos un diccionario con la palabra secreta \n",
    "#las letras tienen como valor un asterisco\n",
    "\n",
    "palabra_secreta = {'P':'*', 'A':'*', 'T':'*', 'O':'*'}\n",
    "\n",
    "respuesta = ''.join(palabra_secreta.values())\n",
    "#estamos generando una variable nueva que contenga los asteriscos\n",
    "#de esta manera no es una lista de valores, sino una cadena propia\n",
    "\n",
    "intentos = 5\n",
    "\n",
    "while respuesta != 'PATO' and intentos >= 1:\n",
    "    usuario = input('Introduce una letra').upper()\n",
    "\n",
    "    if usuario in palabra_secreta:\n",
    "        palabra_secreta[usuario] = usuario\n",
    "        respuesta = ''.join(palabra_secreta.values())\n",
    "        print(respuesta)\n",
    "        print(f'Te quedan {intentos} intentos')\n",
    "        print('----')\n",
    "    else: \n",
    "        print(f'{usuario} no está en la palabra. Vuelve a intentarlo.')\n",
    "        intentos -= 1\n",
    "        print(f'Te quedan {intentos} intentos')\n",
    "\n",
    "if intentos == 0:\n",
    "    print(f'Te has quedado sin intentos :(')\n",
    "else:\n",
    "    print(f'¡Los has adivinado! :D La respuesta era {respuesta}')\n",
    "    print(f'Has finalizado en {intentos} intentos')\n",
    "\n",
    "\n"
   ]
  }
 ],
 "metadata": {
  "kernelspec": {
   "display_name": "base",
   "language": "python",
   "name": "python3"
  },
  "language_info": {
   "codemirror_mode": {
    "name": "ipython",
    "version": 3
   },
   "file_extension": ".py",
   "mimetype": "text/x-python",
   "name": "python",
   "nbconvert_exporter": "python",
   "pygments_lexer": "ipython3",
   "version": "3.9.7"
  }
 },
 "nbformat": 4,
 "nbformat_minor": 2
}
